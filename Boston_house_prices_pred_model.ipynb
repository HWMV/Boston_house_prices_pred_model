{
  "nbformat": 4,
  "nbformat_minor": 0,
  "metadata": {
    "colab": {
      "provenance": [],
      "authorship_tag": "ABX9TyMtqETVcPBsedRv/aH61hlW",
      "include_colab_link": true
    },
    "kernelspec": {
      "name": "python3",
      "display_name": "Python 3"
    },
    "language_info": {
      "name": "python"
    }
  },
  "cells": [
    {
      "cell_type": "markdown",
      "metadata": {
        "id": "view-in-github",
        "colab_type": "text"
      },
      "source": [
        "<a href=\"https://colab.research.google.com/github/HWMV/Boston_house_prices_pred_model/blob/main/Boston_house_prices_pred_model.ipynb\" target=\"_parent\"><img src=\"https://colab.research.google.com/assets/colab-badge.svg\" alt=\"Open In Colab\"/></a>"
      ]
    },
    {
      "cell_type": "markdown",
      "source": [
        "# Boston_house_prices_pred_model\n",
        "\n",
        "### 보스턴 주택 가격에 대한 데이터로 가격을 예측 해볼 수 있는 모델을 만들어 보자!\n"
      ],
      "metadata": {
        "id": "-otLPKODXCL5"
      }
    },
    {
      "cell_type": "markdown",
      "source": [
        "## 1. 데이터 로드 및 표준화"
      ],
      "metadata": {
        "id": "phe-9NwacfYk"
      }
    },
    {
      "cell_type": "code",
      "source": [
        "# library import\n",
        "from tensorflow.keras import models, layers\n",
        "import matplotlib.pyplot as plt"
      ],
      "metadata": {
        "id": "0LE2s-7XXKJQ"
      },
      "execution_count": 29,
      "outputs": []
    },
    {
      "cell_type": "code",
      "source": [
        "# data set load\n",
        "# keras.datasets 안에 boston_housing 데이터셋을 로드합니다.\n",
        "from keras.datasets import boston_housing\n",
        "\n",
        "(train_data, train_labels), (test_data, test_labels) = boston_housing.load_data()\n",
        "\n",
        "# 데이터셋의 크기를 확인합니다.\n",
        "print(len(train_data))\n",
        "print(len(test_data))"
      ],
      "metadata": {
        "colab": {
          "base_uri": "https://localhost:8080/"
        },
        "id": "QBCfo4zHZr3u",
        "outputId": "82823745-c569-4f56-da5c-69f93f4f515a"
      },
      "execution_count": 30,
      "outputs": [
        {
          "output_type": "stream",
          "name": "stdout",
          "text": [
            "404\n",
            "102\n"
          ]
        }
      ]
    },
    {
      "cell_type": "code",
      "source": [
        "# # 데이터 형태 확인 하기\n",
        "# # 확인한다고 맘대로 DataFrame 화 하면 안된다!!\n",
        "# import pandas as pd\n",
        "\n",
        "# df_train_data = pd.DataFrame(train_data)\n",
        "# df_train_data"
      ],
      "metadata": {
        "id": "aefnHA3caXXV"
      },
      "execution_count": 31,
      "outputs": []
    },
    {
      "cell_type": "code",
      "source": [
        "# 문제 1-1: 데이터셋의 전처리를 위해 표준화 작업을 수행합니다.\n",
        "# 먼저 입력 데이터의 각 특성의 평균을 뺍니다.\n",
        "mean = train_data.mean(axis=0)\n",
        "std = train_data.std(axis=0)\n",
        "\n",
        "train_data -= mean\n",
        "test_data -= mean\n",
        "\n",
        "# 평균을 뺀 입력 데이터에서 표준편차를 나눕니다.\n",
        "# 데이터 특성의 중앙이 0에 가깝게 만들고, 표준편차가 1이 되게 만듭니다.\n",
        "train_data /= mean\n",
        "test_data /= std"
      ],
      "metadata": {
        "id": "5pf6LCEQZ1IM"
      },
      "execution_count": 32,
      "outputs": []
    },
    {
      "cell_type": "markdown",
      "source": [
        "##2. 모델 구성 및 컴파일"
      ],
      "metadata": {
        "id": "Iua2FqTOcYF3"
      }
    },
    {
      "cell_type": "code",
      "source": [
        "# 문제 1-2: 주택 가격 예측을 위한 딥러닝 모델 구성 및 컴파일합니다.\n",
        "# input_shape은 (train_data.shape[1], )으로 구성합니다.\n",
        "# 회귀(예측)을 위한 모델이므로 loss를 mse, metrics를 mae로 사용합니다.\n",
        "# [[YOUR CODE]]\n",
        "from tensorflow.keras.models import Sequential\n",
        "from tensorflow.keras import layers\n",
        "\n",
        "model = models.Sequential()\n",
        "model.add(layers.Dense(128, activation='relu', input_shape=(train_data.shape[1],)))\n",
        "model.add(layers.Dense(64, activation='relu'))\n",
        "# 회귀 모델이므로 출력 레이어의 뉴런은 1개\n",
        "model.add(layers.Dense(1))"
      ],
      "metadata": {
        "id": "fWlrJYjfckVu"
      },
      "execution_count": 33,
      "outputs": []
    },
    {
      "cell_type": "code",
      "source": [
        "# model compile\n",
        "model.compile(optimizer='adam',\n",
        "              loss='mse', # 'mean_squared_error',\n",
        "              metrics='mae') # 'mean_absolute_error')"
      ],
      "metadata": {
        "id": "rTkvCOzDckY2"
      },
      "execution_count": 34,
      "outputs": []
    },
    {
      "cell_type": "code",
      "source": [
        "# validation data separation\n",
        "from sklearn.model_selection import train_test_split\n",
        "\n",
        "train_data, val_data, train_labels, val_labels = train_test_split(train_data, train_labels,\n",
        "                                                                  test_size=0.2, random_state=2023)"
      ],
      "metadata": {
        "id": "d_KlCNvDeheK"
      },
      "execution_count": 35,
      "outputs": []
    },
    {
      "cell_type": "code",
      "source": [
        "# model fit(history)\n",
        "history = model.fit(train_data, train_labels, epochs=50,\n",
        "                    batch_size = 32,\n",
        "                    validation_data =(val_data, val_labels))"
      ],
      "metadata": {
        "colab": {
          "base_uri": "https://localhost:8080/"
        },
        "id": "7n0kxOOlckbd",
        "outputId": "5215365c-629e-47f0-c38b-cc15f94289bf"
      },
      "execution_count": 36,
      "outputs": [
        {
          "output_type": "stream",
          "name": "stdout",
          "text": [
            "Epoch 1/50\n",
            "11/11 [==============================] - 1s 21ms/step - loss: 550.4407 - mae: 21.5435 - val_loss: 534.3229 - val_mae: 21.1148\n",
            "Epoch 2/50\n",
            "11/11 [==============================] - 0s 5ms/step - loss: 484.5223 - mae: 19.9842 - val_loss: 468.0078 - val_mae: 19.5393\n",
            "Epoch 3/50\n",
            "11/11 [==============================] - 0s 7ms/step - loss: 409.7054 - mae: 18.0960 - val_loss: 388.0246 - val_mae: 17.4500\n",
            "Epoch 4/50\n",
            "11/11 [==============================] - 0s 7ms/step - loss: 322.0384 - mae: 15.6954 - val_loss: 294.5456 - val_mae: 14.6884\n",
            "Epoch 5/50\n",
            "11/11 [==============================] - 0s 5ms/step - loss: 227.1131 - mae: 12.8843 - val_loss: 198.4891 - val_mae: 11.5543\n",
            "Epoch 6/50\n",
            "11/11 [==============================] - 0s 7ms/step - loss: 145.5639 - mae: 9.7490 - val_loss: 123.8212 - val_mae: 8.3091\n",
            "Epoch 7/50\n",
            "11/11 [==============================] - 0s 7ms/step - loss: 91.4407 - mae: 6.9373 - val_loss: 80.5382 - val_mae: 5.9844\n",
            "Epoch 8/50\n",
            "11/11 [==============================] - 0s 7ms/step - loss: 65.1043 - mae: 5.3037 - val_loss: 61.5410 - val_mae: 5.2842\n",
            "Epoch 9/50\n",
            "11/11 [==============================] - 0s 5ms/step - loss: 56.6333 - mae: 5.0963 - val_loss: 54.5880 - val_mae: 5.2884\n",
            "Epoch 10/50\n",
            "11/11 [==============================] - 0s 7ms/step - loss: 51.3929 - mae: 5.0084 - val_loss: 48.1420 - val_mae: 5.0034\n",
            "Epoch 11/50\n",
            "11/11 [==============================] - 0s 5ms/step - loss: 47.2246 - mae: 4.7465 - val_loss: 43.4927 - val_mae: 4.6541\n",
            "Epoch 12/50\n",
            "11/11 [==============================] - 0s 7ms/step - loss: 44.0503 - mae: 4.5653 - val_loss: 40.8078 - val_mae: 4.5791\n",
            "Epoch 13/50\n",
            "11/11 [==============================] - 0s 6ms/step - loss: 42.0455 - mae: 4.5218 - val_loss: 38.3322 - val_mae: 4.4829\n",
            "Epoch 14/50\n",
            "11/11 [==============================] - 0s 5ms/step - loss: 40.4171 - mae: 4.3669 - val_loss: 34.9413 - val_mae: 4.1986\n",
            "Epoch 15/50\n",
            "11/11 [==============================] - 0s 5ms/step - loss: 38.6581 - mae: 4.1890 - val_loss: 33.6537 - val_mae: 4.1072\n",
            "Epoch 16/50\n",
            "11/11 [==============================] - 0s 7ms/step - loss: 36.8889 - mae: 4.0884 - val_loss: 31.9593 - val_mae: 4.0423\n",
            "Epoch 17/50\n",
            "11/11 [==============================] - 0s 7ms/step - loss: 36.0036 - mae: 4.0327 - val_loss: 29.5114 - val_mae: 3.9450\n",
            "Epoch 18/50\n",
            "11/11 [==============================] - 0s 5ms/step - loss: 34.7210 - mae: 3.9507 - val_loss: 28.4258 - val_mae: 3.9122\n",
            "Epoch 19/50\n",
            "11/11 [==============================] - 0s 5ms/step - loss: 33.7122 - mae: 3.9218 - val_loss: 27.0985 - val_mae: 3.8311\n",
            "Epoch 20/50\n",
            "11/11 [==============================] - 0s 5ms/step - loss: 32.8140 - mae: 3.8118 - val_loss: 26.3889 - val_mae: 3.7240\n",
            "Epoch 21/50\n",
            "11/11 [==============================] - 0s 5ms/step - loss: 31.7422 - mae: 3.7602 - val_loss: 26.1538 - val_mae: 3.7570\n",
            "Epoch 22/50\n",
            "11/11 [==============================] - 0s 6ms/step - loss: 30.5720 - mae: 3.7499 - val_loss: 25.4959 - val_mae: 3.8123\n",
            "Epoch 23/50\n",
            "11/11 [==============================] - 0s 5ms/step - loss: 29.9505 - mae: 3.7375 - val_loss: 24.2333 - val_mae: 3.6896\n",
            "Epoch 24/50\n",
            "11/11 [==============================] - 0s 7ms/step - loss: 28.9399 - mae: 3.6768 - val_loss: 23.5710 - val_mae: 3.5747\n",
            "Epoch 25/50\n",
            "11/11 [==============================] - 0s 7ms/step - loss: 28.0897 - mae: 3.5973 - val_loss: 22.4845 - val_mae: 3.5047\n",
            "Epoch 26/50\n",
            "11/11 [==============================] - 0s 5ms/step - loss: 27.4716 - mae: 3.5368 - val_loss: 21.6624 - val_mae: 3.4374\n",
            "Epoch 27/50\n",
            "11/11 [==============================] - 0s 7ms/step - loss: 26.7599 - mae: 3.5237 - val_loss: 20.8346 - val_mae: 3.4620\n",
            "Epoch 28/50\n",
            "11/11 [==============================] - 0s 7ms/step - loss: 26.3437 - mae: 3.5507 - val_loss: 20.3373 - val_mae: 3.4400\n",
            "Epoch 29/50\n",
            "11/11 [==============================] - 0s 7ms/step - loss: 25.5507 - mae: 3.4925 - val_loss: 19.4195 - val_mae: 3.2916\n",
            "Epoch 30/50\n",
            "11/11 [==============================] - 0s 6ms/step - loss: 25.5462 - mae: 3.3553 - val_loss: 18.1500 - val_mae: 3.1318\n",
            "Epoch 31/50\n",
            "11/11 [==============================] - 0s 6ms/step - loss: 25.0690 - mae: 3.3718 - val_loss: 18.4615 - val_mae: 3.2358\n",
            "Epoch 32/50\n",
            "11/11 [==============================] - 0s 6ms/step - loss: 24.2201 - mae: 3.3857 - val_loss: 18.4249 - val_mae: 3.2170\n",
            "Epoch 33/50\n",
            "11/11 [==============================] - 0s 5ms/step - loss: 24.0707 - mae: 3.2772 - val_loss: 17.7552 - val_mae: 3.0989\n",
            "Epoch 34/50\n",
            "11/11 [==============================] - 0s 5ms/step - loss: 23.8089 - mae: 3.2937 - val_loss: 18.7947 - val_mae: 3.3021\n",
            "Epoch 35/50\n",
            "11/11 [==============================] - 0s 7ms/step - loss: 22.9324 - mae: 3.2720 - val_loss: 17.4772 - val_mae: 3.1444\n",
            "Epoch 36/50\n",
            "11/11 [==============================] - 0s 6ms/step - loss: 22.5009 - mae: 3.2318 - val_loss: 17.3755 - val_mae: 3.1355\n",
            "Epoch 37/50\n",
            "11/11 [==============================] - 0s 6ms/step - loss: 22.0037 - mae: 3.2247 - val_loss: 16.9668 - val_mae: 3.1210\n",
            "Epoch 38/50\n",
            "11/11 [==============================] - 0s 7ms/step - loss: 21.6354 - mae: 3.2201 - val_loss: 16.6491 - val_mae: 3.1485\n",
            "Epoch 39/50\n",
            "11/11 [==============================] - 0s 6ms/step - loss: 21.5460 - mae: 3.2179 - val_loss: 16.5380 - val_mae: 3.0983\n",
            "Epoch 40/50\n",
            "11/11 [==============================] - 0s 7ms/step - loss: 20.9150 - mae: 3.1491 - val_loss: 16.2235 - val_mae: 3.0516\n",
            "Epoch 41/50\n",
            "11/11 [==============================] - 0s 6ms/step - loss: 20.5871 - mae: 3.1054 - val_loss: 15.8833 - val_mae: 3.0283\n",
            "Epoch 42/50\n",
            "11/11 [==============================] - 0s 8ms/step - loss: 20.6206 - mae: 3.1490 - val_loss: 15.9901 - val_mae: 3.1404\n",
            "Epoch 43/50\n",
            "11/11 [==============================] - 0s 5ms/step - loss: 20.6053 - mae: 3.0604 - val_loss: 15.2356 - val_mae: 2.9590\n",
            "Epoch 44/50\n",
            "11/11 [==============================] - 0s 5ms/step - loss: 20.0179 - mae: 3.0633 - val_loss: 16.0214 - val_mae: 3.0346\n",
            "Epoch 45/50\n",
            "11/11 [==============================] - 0s 7ms/step - loss: 19.4174 - mae: 3.0464 - val_loss: 15.2482 - val_mae: 3.0155\n",
            "Epoch 46/50\n",
            "11/11 [==============================] - 0s 7ms/step - loss: 18.9531 - mae: 3.0035 - val_loss: 15.1390 - val_mae: 3.0276\n",
            "Epoch 47/50\n",
            "11/11 [==============================] - 0s 6ms/step - loss: 18.6245 - mae: 2.9877 - val_loss: 14.9783 - val_mae: 3.0038\n",
            "Epoch 48/50\n",
            "11/11 [==============================] - 0s 5ms/step - loss: 18.3427 - mae: 2.9549 - val_loss: 14.1722 - val_mae: 2.9211\n",
            "Epoch 49/50\n",
            "11/11 [==============================] - 0s 7ms/step - loss: 18.2655 - mae: 2.8976 - val_loss: 13.4284 - val_mae: 2.8602\n",
            "Epoch 50/50\n",
            "11/11 [==============================] - 0s 5ms/step - loss: 18.3257 - mae: 2.8888 - val_loss: 13.3450 - val_mae: 2.8645\n"
          ]
        }
      ]
    },
    {
      "cell_type": "code",
      "source": [
        "# 모델 학습 히스토리에서 loss, val_loss, mae, val_mae를 차트로 보여줍니다.\n",
        "plt.style.use('seaborn-white')\n",
        "\n",
        "history_dict = history.history\n",
        "\n",
        "loss = history_dict['loss']\n",
        "val_loss = history_dict['val_loss']\n",
        "\n",
        "epochs = range(1, len(loss) + 1)\n",
        "fig = plt.figure(figsize=(12, 5))\n",
        "\n",
        "ax1 = fig.add_subplot(1, 2, 1)\n",
        "ax1.plot(epochs, loss, 'b-', label='train_loss')\n",
        "ax1.plot(epochs, val_loss, 'r-', label='val_loss')\n",
        "ax1.set_title('Train and Validation Loss')\n",
        "ax1.set_xlabel('Epochs')\n",
        "ax1.set_ylabel('Loss')\n",
        "ax1.grid()\n",
        "ax1.legend()\n",
        "\n",
        "mae = history_dict['mae']\n",
        "val_mae = history_dict['val_mae']\n",
        "\n",
        "ax2 = fig.add_subplot(1, 2, 2)\n",
        "ax2.plot(epochs, mae, 'b-', label='train_mae')\n",
        "ax2.plot(epochs, val_mae, 'r-', label='val_mae')\n",
        "ax2.set_title('Train and Validation MAE')\n",
        "ax2.set_xlabel('Epochs')\n",
        "ax2.set_ylabel('Accuracy')\n",
        "ax2.grid()\n",
        "ax2.legend()\n",
        "\n",
        "plt.show()"
      ],
      "metadata": {
        "colab": {
          "base_uri": "https://localhost:8080/",
          "height": 365
        },
        "id": "p0sSDtAFfywd",
        "outputId": "efc017ae-7174-4947-ebbf-2dccccb1b7d1"
      },
      "execution_count": 37,
      "outputs": [
        {
          "output_type": "stream",
          "name": "stderr",
          "text": [
            "<ipython-input-37-67e2570c3830>:2: MatplotlibDeprecationWarning: The seaborn styles shipped by Matplotlib are deprecated since 3.6, as they no longer correspond to the styles shipped by seaborn. However, they will remain available as 'seaborn-v0_8-<style>'. Alternatively, directly use the seaborn API instead.\n",
            "  plt.style.use('seaborn-white')\n"
          ]
        },
        {
          "output_type": "display_data",
          "data": {
            "text/plain": [
              "<Figure size 1200x500 with 2 Axes>"
            ],
            "image/png": "[encoded data removed]"
          },
          "metadata": {}
        }
      ]
    },
    {
      "cell_type": "markdown",
      "source": [
        "## 3. 모델 평가 및 예측"
      ],
      "metadata": {
        "id": "I_Ppxa0EjFCp"
      }
    },
    {
      "cell_type": "code",
      "source": [
        "# 모델 평가 및 예측 (evaluate, predict)\n",
        "# 모델 평가\n",
        "test_loss, test_mae = model.evaluate(test_data, test_labels)\n",
        "print(f\"테스트 데이터 손실 (Test Loss): {test_loss}\")\n",
        "print(f\"테스트 데이터 MAE (Test MAE): {test_mae}\")"
      ],
      "metadata": {
        "colab": {
          "base_uri": "https://localhost:8080/"
        },
        "id": "f4woo2eVjDwn",
        "outputId": "97db1259-dbf7-4a24-90d6-354bb9d82052"
      },
      "execution_count": 39,
      "outputs": [
        {
          "output_type": "stream",
          "name": "stdout",
          "text": [
            "4/4 [==============================] - 0s 3ms/step - loss: 320.6361 - mae: 11.9356\n",
            "테스트 데이터 손실 (Test Loss): 320.6361389160156\n",
            "테스트 데이터 MAE (Test MAE): 11.935579299926758\n"
          ]
        }
      ]
    }
  ]
}